{
 "cells": [
  {
   "cell_type": "code",
   "execution_count": 44,
   "metadata": {},
   "outputs": [
    {
     "name": "stdout",
     "output_type": "stream",
     "text": [
      "\u001b[32m\u001b[1m Resolving\u001b[22m\u001b[39m package versions...\n",
      "\u001b[32m\u001b[1m  Updating\u001b[22m\u001b[39m `~/.julia/environments/v1.1/Project.toml`\n",
      "\u001b[90m [no changes]\u001b[39m\n",
      "\u001b[32m\u001b[1m  Updating\u001b[22m\u001b[39m `~/.julia/environments/v1.1/Manifest.toml`\n",
      "\u001b[90m [no changes]\u001b[39m\n",
      "\u001b[32m\u001b[1m Resolving\u001b[22m\u001b[39m package versions...\n",
      "\u001b[32m\u001b[1m  Updating\u001b[22m\u001b[39m `~/.julia/environments/v1.1/Project.toml`\n",
      "\u001b[90m [no changes]\u001b[39m\n",
      "\u001b[32m\u001b[1m  Updating\u001b[22m\u001b[39m `~/.julia/environments/v1.1/Manifest.toml`\n",
      "\u001b[90m [no changes]\u001b[39m\n",
      "\u001b[32m\u001b[1m Resolving\u001b[22m\u001b[39m package versions...\n",
      "\u001b[32m\u001b[1m  Updating\u001b[22m\u001b[39m `~/.julia/environments/v1.1/Project.toml`\n",
      " \u001b[90m [a93c6f00]\u001b[39m\u001b[92m + DataFrames v0.17.0\u001b[39m\n",
      "\u001b[32m\u001b[1m  Updating\u001b[22m\u001b[39m `~/.julia/environments/v1.1/Manifest.toml`\n",
      "\u001b[90m [no changes]\u001b[39m\n"
     ]
    }
   ],
   "source": [
    "import Pkg; \n",
    "Pkg.add(\"ForwardDiff\"); \n",
    "Pkg.add(\"CSV\"); \n",
    "Pkg.add(\"DataFrames\")\n",
    "using DataFrames\n",
    "using ForwardDiff\n",
    "using CSV"
   ]
  },
  {
   "cell_type": "code",
   "execution_count": 78,
   "metadata": {},
   "outputs": [
    {
     "ename": "ErrorException",
     "evalue": "syntax: { } vector syntax is discontinued",
     "output_type": "error",
     "traceback": [
      "syntax: { } vector syntax is discontinued",
      ""
     ]
    }
   ],
   "source": [
    "n = 3\n",
    "m = 10\n",
    "function r_factory(o::{Float64,(n,})\n",
    "    # Residual function\n",
    "    rfunc = function r(x::Array{Float64,(m, 1)}) \n",
    "        return (x[1] - o[1])^2 + (x[2] - o[2])^2 + x[3]^2 \n",
    "    end\n",
    "    return rfunc\n",
    "end\n",
    "# df_o = CSV.File(file) |> DataFrame\n",
    "\n",
    "o = rand(m, 2) # Observations of <x,y> values, basically noisy circle\n",
    "x = rand(n, 1) # Circle parameters <x_c, y_c, r>\n",
    "\n",
    "# Residual function vector\n",
    "r = [r_factory(o[i, :]) for i in 1:m]\n",
    "A = [ForwardDiff.gradient(z->r[k](z), [3,3,3]) for k in 1:m]\n",
    "A"
   ]
  },
  {
   "cell_type": "code",
   "execution_count": null,
   "metadata": {},
   "outputs": [],
   "source": []
  }
 ],
 "metadata": {
  "kernelspec": {
   "display_name": "Julia 1.1.0",
   "language": "julia",
   "name": "julia-1.1"
  },
  "language_info": {
   "file_extension": ".jl",
   "mimetype": "application/julia",
   "name": "julia",
   "version": "1.1.0"
  }
 },
 "nbformat": 4,
 "nbformat_minor": 2
}
