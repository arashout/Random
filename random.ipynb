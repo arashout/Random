{
 "cells": [
  {
   "cell_type": "code",
   "execution_count": 25,
   "metadata": {},
   "outputs": [],
   "source": [
    "from itertools import chain, combinations\n",
    "\n",
    "def powerset(iterable):\n",
    "    \"\"\"\n",
    "    powerset([1,2,3]) --> () (1,) (2,) (3,) (1,2) (1,3) (2,3) (1,2,3)\n",
    "    \"\"\"\n",
    "    xs = list(iterable)\n",
    "    # note we return an iterator rather than a list\n",
    "    return chain.from_iterable(combinations(xs,n) for n in range(len(xs)+1))\n",
    "\n",
    "class Solution:\n",
    "    def findSubstringInWraproundString(self, p):\n",
    "        \"\"\"\n",
    "        :type p: str\n",
    "        :rtype: int\n",
    "        \"\"\"\n",
    "        total = 0\n",
    "        for s in set(powerset(p)):\n",
    "            if len(s) != 0:\n",
    "                s = ''.join(s)\n",
    "                count = self.countNeedles(s)\n",
    "                if count > 0 :\n",
    "                    print(s)\n",
    "                total += count\n",
    "    \n",
    "        return total\n",
    "    \n",
    "    \n",
    "    def countNeedles(self, p):\n",
    "        n = len(p)\n",
    "        s = \"abcdefghijklmnopqrstuvwxyz\"\n",
    "        sw = s[len(s)-n+1:] + s + s[:(n-1)]\n",
    "        return 1 if p in sw else 0\n",
    "    "
   ]
  },
  {
   "cell_type": "code",
   "execution_count": 26,
   "metadata": {},
   "outputs": [
    {
     "name": "stdout",
     "output_type": "stream",
     "text": [
      "za\n",
      "zab\n",
      "a\n",
      "z\n",
      "ab\n",
      "b\n"
     ]
    },
    {
     "data": {
      "text/plain": [
       "6"
      ]
     },
     "execution_count": 26,
     "metadata": {},
     "output_type": "execute_result"
    }
   ],
   "source": [
    "s = Solution()\n",
    "s.findSubstringInWraproundString(\"zab\")"
   ]
  },
  {
   "cell_type": "code",
   "execution_count": null,
   "metadata": {},
   "outputs": [],
   "source": []
  }
 ],
 "metadata": {
  "kernelspec": {
   "display_name": "Python 3",
   "language": "python",
   "name": "python3"
  },
  "language_info": {
   "codemirror_mode": {
    "name": "ipython",
    "version": 3
   },
   "file_extension": ".py",
   "mimetype": "text/x-python",
   "name": "python",
   "nbconvert_exporter": "python",
   "pygments_lexer": "ipython3",
   "version": "3.6.8"
  }
 },
 "nbformat": 4,
 "nbformat_minor": 2
}
